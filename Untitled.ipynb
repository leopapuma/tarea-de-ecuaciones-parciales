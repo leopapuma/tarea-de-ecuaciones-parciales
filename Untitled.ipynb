{
  "nbformat": 4,
  "nbformat_minor": 0,
  "metadata": {
    "colab": {
      "provenance": [],
      "authorship_tag": "ABX9TyM3BPfeUVpOre3cF+icmb0F",
      "include_colab_link": true
    },
    "kernelspec": {
      "name": "python3",
      "display_name": "Python 3"
    },
    "language_info": {
      "name": "python"
    }
  },
  "cells": [
    {
      "cell_type": "markdown",
      "metadata": {
        "id": "view-in-github",
        "colab_type": "text"
      },
      "source": [
        "<a href=\"https://colab.research.google.com/github/leopapuma/tarea-de-ecuaciones-parciales/blob/main/Untitled.ipynb\" target=\"_parent\"><img src=\"https://colab.research.google.com/assets/colab-badge.svg\" alt=\"Open In Colab\"/></a>"
      ]
    },
    {
      "cell_type": "code",
      "execution_count": 1,
      "metadata": {
        "id": "0YysPfJa4oSj",
        "outputId": "590a1ae2-75d3-473f-8316-f5528b6a0e91",
        "colab": {
          "base_uri": "https://localhost:8080/"
        }
      },
      "outputs": [
        {
          "output_type": "stream",
          "name": "stdout",
          "text": [
            " Convergió en 20 iteraciones con error 7.42e-07\n",
            "\n",
            " Tabla de resultados:\n",
            " Iteración        Error  u(2/3,2/3)  u(4/3,2/3)  u(2/3,4/3)  u(4/3,4/3)\n",
            "         1 6.111111e-01    0.000000    0.222222    0.166667    0.388889\n",
            "         2 1.944444e-01    0.097222    0.319444    0.263889    0.486111\n",
            "         3 9.722222e-02    0.145833    0.368056    0.312500    0.534722\n",
            "         4 4.861111e-02    0.170139    0.392361    0.336806    0.559028\n",
            "         5 2.430556e-02    0.182292    0.404514    0.348958    0.571181\n",
            "         6 1.215278e-02    0.188368    0.410590    0.355035    0.577257\n",
            "         7 6.076389e-03    0.191406    0.413628    0.358073    0.580295\n",
            "         8 3.038194e-03    0.192925    0.415148    0.359592    0.581814\n",
            "         9 1.519097e-03    0.193685    0.415907    0.360352    0.582574\n",
            "        10 7.595486e-04    0.194065    0.416287    0.360731    0.582954\n",
            "        11 3.797743e-04    0.194255    0.416477    0.360921    0.583143\n",
            "        12 1.898872e-04    0.194350    0.416572    0.361016    0.583238\n",
            "        13 9.494358e-05    0.194397    0.416619    0.361064    0.583286\n",
            "        14 4.747179e-05    0.194421    0.416643    0.361087    0.583310\n",
            "        15 2.373589e-05    0.194433    0.416655    0.361099    0.583321\n",
            "        16 1.186795e-05    0.194439    0.416661    0.361105    0.583327\n",
            "        17 5.933974e-06    0.194441    0.416664    0.361108    0.583330\n",
            "        18 2.966987e-06    0.194443    0.416665    0.361110    0.583332\n",
            "        19 1.483493e-06    0.194444    0.416666    0.361110    0.583333\n",
            "        20 7.417467e-07    0.194444    0.416666    0.361111    0.583333\n",
            "\n",
            " Solución de la malla :\n",
            " 0.000  0.667  0.667  0.000\n",
            " 0.000  0.361  0.583  0.889\n",
            " 0.000  0.194  0.417  0.889\n",
            " 0.000  0.000  0.000  0.000\n"
          ]
        }
      ],
      "source": [
        "# librerias que vamos a usar son:\n",
        "import numpy as np\n",
        "import pandas as pd\n",
        "import matplotlib.pyplot as plt\n",
        "# escribimos los parametros del ejercicio, que son los siguintes\n",
        "x, y = 2.0, 2.0\n",
        "h = 2/3\n",
        "x1 = int(x/h) + 1\n",
        "y1 = int(y/h) + 1\n",
        "# ahora construimos la malla para resolver el ejercicio\n",
        "x2 = np.linspace(0, x, x1)\n",
        "y2 = np.linspace(0, y, y1)\n",
        "# construimos ahora la matriz solucion\n",
        "u = np.zeros((x1, y1))\n",
        "# ahorra agregamos las condiciones de frontera\n",
        "u[0, :] = 0                 # u(0,y) = 0\n",
        "u[-1, :] = y2*(2-y2)        # u(2,y) = y(2-y)\n",
        "u[:, 0] = 0                 # u(x,0) = 0\n",
        "# u(x,2) = {x si x<1 ; 2-x si x>=1}\n",
        "for i in range(x1):\n",
        "    if x2[i] < 1:\n",
        "        u[i, -1] = x2[i]\n",
        "    else:\n",
        "        u[i, -1] = 2 - x2[i]\n",
        "u1 = u.copy()\n",
        "tol = 1e-6\n",
        "max_iter = 5000 # ponemos un limite de iteraciones\n",
        "resultados = [] # en resultados guardaremos los datos\n",
        "for it in range(1, max_iter+1):\n",
        "    for i in range(1, x1-1):\n",
        "        for j in range(1, y1-1):\n",
        "            u1[i, j] = 0.25*(u[i+1,j] + u[i-1,j] + u[i,j+1] + u[i,j-1])\n",
        "    error = np.linalg.norm(u1 - u, ord=np.inf)\n",
        "    u[:] = u1\n",
        "    if it % 1 == 0 or error < tol:\n",
        "        resultados.append([it, error, u[1,1], u[2,1], u[1,2], u[2,2]])\n",
        "    if error < tol:\n",
        "        print(f\" Convergió en {it} iteraciones con error {error:.2e}\")\n",
        "        break\n",
        "        # ahora construimos la tabla en donde se guaradara los resultados\n",
        "tabla = pd.DataFrame(resultados,columns=[\"Iteración\", \"Error\",\"u(2/3,2/3)\", \"u(4/3,2/3)\",\"u(2/3,4/3)\", \"u(4/3,4/3)\"])\n",
        "print(\"\\n Tabla de resultados:\")\n",
        "print(tabla.to_string(index=False))\n",
        "print(\"\\n Solución de la malla :\") # aqui va parecer el resultado en forma de malla\n",
        "for j in range(y1-1, -1, -1):\n",
        "    fila = \" \".join(f\"{u[i,j]:6.3f}\" for i in range(x1))\n",
        "    print(fila)\n",
        "\n"
      ]
    }
  ]
}